{
 "cells": [
  {
   "cell_type": "code",
   "execution_count": 3,
   "metadata": {
    "slideshow": {
     "slide_type": "-"
    }
   },
   "outputs": [
    {
     "name": "stdout",
     "output_type": "stream",
     "text": [
      "sys.version_info(major=3, minor=7, micro=4, releaselevel='final', serial=0)\n",
      "Python: 3.7.4 (default, Aug  9 2019, 18:34:13) [MSC v.1915 64 bit (AMD64)]\n",
      "C:\\Users\\Stargazer\\Anaconda3\\envs\\safeclone\\python.exe\n",
      "Tensorflow version: 2.1.0\n",
      "Keras version: 2.2.4-tf\n"
     ]
    }
   ],
   "source": [
    "import pandas as pd\n",
    "import numpy as np\n",
    "from sklearn.model_selection import train_test_split\n",
    "import tensorflow as tf\n",
    "from tensorflow.keras.callbacks import Callback\n",
    "from tensorflow import keras\n",
    "from tensorflow.keras import regularizers\n",
    "from tensorflow.keras import layers\n",
    "from matplotlib import pyplot as plt\n",
    "from playsound import playsound\n",
    "import math\n",
    "import sys\n",
    "print(sys.version_info)\n",
    "print('Python: '+sys.version)\n",
    "print(sys.executable)\n",
    "print('Tensorflow version: '+tf.__version__)\n",
    "print('Keras version: '+keras.__version__)"
   ]
  },
  {
   "cell_type": "code",
   "execution_count": 4,
   "metadata": {},
   "outputs": [],
   "source": [
    "tf.random.Generator = None  # Patch for a bug\n",
    "import tensorflow_addons as tfa"
   ]
  },
  {
   "cell_type": "code",
   "execution_count": 5,
   "metadata": {},
   "outputs": [
    {
     "data": {
      "text/plain": [
       "'C:\\\\Users\\\\Stargazer\\\\Anaconda3\\\\envs\\\\safeclone'"
      ]
     },
     "execution_count": 5,
     "metadata": {},
     "output_type": "execute_result"
    }
   ],
   "source": [
    "import os\n",
    "os.chdir('E:\\JUPYTER_files')\n",
    "os.path.dirname(sys.executable)"
   ]
  },
  {
   "cell_type": "code",
   "execution_count": 6,
   "metadata": {},
   "outputs": [],
   "source": [
    "tf.compat.v1.enable_eager_execution()"
   ]
  },
  {
   "cell_type": "code",
   "execution_count": 7,
   "metadata": {},
   "outputs": [],
   "source": [
    "# suppresses some error messages\n",
    "tf.compat.v1.logging.set_verbosity(tf.compat.v1.logging.ERROR)"
   ]
  },
  {
   "cell_type": "code",
   "execution_count": 8,
   "metadata": {},
   "outputs": [],
   "source": [
    "# early stopping callback\n",
    "\n",
    "class EarlyStoppingAtMinLoss2(keras.callbacks.Callback):\n",
    "    \"\"\"Stop training when the loss is at its min, i.e. the loss stops decreasing.\n",
    "\n",
    "  Arguments:\n",
    "      patience: Number of epochs to wait after min has been hit. After this\n",
    "      number of no improvement, training stops.\n",
    "  \"\"\"\n",
    "\n",
    "    def __init__(self, patience=25): # set patience here\n",
    "        super(EarlyStoppingAtMinLoss2, self).__init__()\n",
    "        self.patience = patience\n",
    "        # best_weights to store the weights at which the minimum loss occurs.\n",
    "        self.best_weights = None\n",
    "\n",
    "    def on_train_begin(self, logs=None):\n",
    "        # The number of epoch it has waited when loss is no longer minimum.\n",
    "        self.wait = 0\n",
    "        # The epoch the training stops at.\n",
    "        self.stopped_epoch = 0\n",
    "        # Initialize the best as infinity.\n",
    "        self.best = np.Inf\n",
    "\n",
    "    def on_epoch_end(self, epoch, logs=None):\n",
    "        current = logs.get(\"val_loss\")\n",
    "        if np.less(current, self.best):\n",
    "            self.best = current\n",
    "            self.wait = 0\n",
    "            # Record the best weights if current results is better (less).\n",
    "            self.best_weights = self.model.get_weights()\n",
    "        else:\n",
    "            self.wait += 1\n",
    "            if self.wait >= self.patience:\n",
    "                self.stopped_epoch = epoch\n",
    "                self.model.stop_training = True\n",
    "                print(\"Restoring model weights from the end of the best epoch.\")\n",
    "                self.model.set_weights(self.best_weights)\n",
    "\n",
    "    def on_train_end(self, logs=None):\n",
    "        if self.stopped_epoch > 0:\n",
    "            print(\"Epoch %05d: early stopping\" % (self.stopped_epoch + 1))\n"
   ]
  },
  {
   "cell_type": "code",
   "execution_count": 9,
   "metadata": {},
   "outputs": [],
   "source": [
    "# prints the difference on loss and val_loss, though oftentimes it seems to not work properly\n",
    "\n",
    "class DifferencePrint(keras.callbacks.Callback):    \n",
    "    def __init__(self, lastloss = 0.0, lastacc = 0.0, currloss = 0.0, curracc = 0.0):\n",
    "        super(DifferencePrint, self).__init__()\n",
    "        self.lastloss = lastloss\n",
    "        self.lastacc = lastacc\n",
    "        self.currloss = currloss\n",
    "        self.curracc = curracc\n",
    "        \n",
    "    def on_epoch_end(self, epoch, logs=None):\n",
    "        if epoch == 0:\n",
    "            self.lastloss = float(logs[\"val_loss\"])\n",
    "            self.lastacc = float(logs[\"val_accuracy\"])\n",
    "        else:\n",
    "            self.currloss = float(logs[\"val_loss\"])\n",
    "            self.currtacc = float(logs[\"val_accuracy\"])\n",
    "            print('\\nVal_loss diff:', self.currloss - self.lastloss)\n",
    "            print('Val_accuracy diff:', self.curracc - self.lastacc)\n",
    "            self.lastloss = self.currloss\n",
    "            self.lastacc = self.curracc"
   ]
  },
  {
   "cell_type": "code",
   "execution_count": 10,
   "metadata": {},
   "outputs": [],
   "source": [
    "# logs network state to universal traning log csv on epoch end\n",
    "class UniversalLog(keras.callbacks.Callback):\n",
    "    def __init__(self):\n",
    "        super(UniversalLog, self).__init__()\n",
    "        \n",
    "    def on_epoch_end(self, epoch, logs=None):\n",
    "        with open('universal training log.csv', 'a') as f:\n",
    "            f.write('\\nepoch: ' +str(epoch)+ ', t_loss: ' +str(logs[\"loss\"])+ ', t_acc: ' +str(logs[\"accuracy\"])+', v_loss: ' +str(logs[\"val_loss\"])+', v_acc: ' +str(logs[\"val_accuracy\"]))\n",
    "            f.close()"
   ]
  },
  {
   "cell_type": "code",
   "execution_count": 11,
   "metadata": {},
   "outputs": [],
   "source": [
    "# checkpoint creation callback\n",
    "\n",
    "checkpoint_filepath = '/jupyter_files/checkpoints/'\n",
    "model_checkpoint_callback = tf.keras.callbacks.ModelCheckpoint(\n",
    "    filepath=checkpoint_filepath,\n",
    "    save_weights_only=False,\n",
    "    monitor='val_accuracy',\n",
    "    mode='max',\n",
    "    save_best_only=False)"
   ]
  },
  {
   "cell_type": "code",
   "execution_count": 12,
   "metadata": {},
   "outputs": [],
   "source": [
    "from tensorflow.keras.callbacks import CSVLogger\n",
    "from datetime import datetime"
   ]
  },
  {
   "cell_type": "code",
   "execution_count": 13,
   "metadata": {},
   "outputs": [],
   "source": [
    "# Determines whether to read the files with the padding before the data or after the data. 0/1\n",
    "padding_after = 0"
   ]
  },
  {
   "cell_type": "code",
   "execution_count": 14,
   "metadata": {},
   "outputs": [
    {
     "name": "stdout",
     "output_type": "stream",
     "text": [
      "6871\n",
      "41\n",
      "2\n"
     ]
    }
   ],
   "source": [
    "# reads float inputs (age and length of stay variables)\n",
    "padding_extra = ''\n",
    "if padding_after != 0:\n",
    "    padding_extra = ' - padding after'\n",
    "\n",
    "f = open('training data - inputs - float'+ padding_extra +'.txt','r')\n",
    "float_inputs = []\n",
    "temp = []\n",
    "for line in f:\n",
    "    if line == \"*new timeseries*\\n\":\n",
    "        float_inputs.append(temp)\n",
    "        temp = []\n",
    "    else:\n",
    "        temp2 = list(line[1:-2].strip(' ').split(','))\n",
    "        temp3 = []\n",
    "        for x in temp2:\n",
    "            temp3.append(float(x))\n",
    "        temp.append(temp3)\n",
    "print(len(float_inputs))\n",
    "print(len(float_inputs[0]))\n",
    "print(len(float_inputs[0][0]))"
   ]
  },
  {
   "cell_type": "code",
   "execution_count": 15,
   "metadata": {},
   "outputs": [
    {
     "name": "stdout",
     "output_type": "stream",
     "text": [
      "6871\n",
      "41\n",
      "17\n"
     ]
    }
   ],
   "source": [
    "# reads one-hot inputs (ethnicity and marital status variables)\n",
    "f = open('training data - inputs - onehot.txt','r')\n",
    "onehot_inputs = []\n",
    "temp = []\n",
    "for line in f:\n",
    "    if line == \"*new timeseries*\\n\":\n",
    "        onehot_inputs.append(temp)\n",
    "        temp = []\n",
    "    else:\n",
    "        temp2 = list(line[1:-2].strip(' ').split(','))\n",
    "        temp3 = []\n",
    "        for x in temp2:\n",
    "            if int(x) == 0:\n",
    "                temp3.append(False)\n",
    "            elif int(x) == 1:\n",
    "                temp3.append(True)\n",
    "            else:\n",
    "                print(\"ERROR... ERROR... ERROR... value:\",x)\n",
    "        temp.append(temp3)\n",
    "print(len(onehot_inputs))\n",
    "print(len(onehot_inputs[0]))\n",
    "print(len(onehot_inputs[0][0]))"
   ]
  },
  {
   "cell_type": "code",
   "execution_count": 16,
   "metadata": {},
   "outputs": [],
   "source": [
    "# sets input length\n",
    "float_input_length = len(float_inputs[0][0])\n",
    "onehot_input_length = len(onehot_inputs[0][0])"
   ]
  },
  {
   "cell_type": "code",
   "execution_count": 17,
   "metadata": {},
   "outputs": [],
   "source": [
    "# Determines what data aggregation we'll run the algorithm with. Can be 'categorical', '3digit', or '4digit'.\n",
    "data_aggr = 'categorical'"
   ]
  },
  {
   "cell_type": "code",
   "execution_count": 18,
   "metadata": {},
   "outputs": [
    {
     "name": "stdout",
     "output_type": "stream",
     "text": [
      "6871\n",
      "41\n",
      "19\n"
     ]
    }
   ],
   "source": [
    "# reads multi-hot ICD inputs\n",
    "f = open('training data - inputs - '+ data_aggr + padding_extra +'.txt','r')\n",
    "icd_inputs = []\n",
    "temp = []\n",
    "for line in f:\n",
    "    if line == \"*new timeseries*\\n\":\n",
    "        icd_inputs.append(temp)\n",
    "        temp = []\n",
    "    else:\n",
    "        temp2 = list(line[1:-2].strip(' ').split(','))\n",
    "        temp3 = []\n",
    "        for x in temp2:\n",
    "            if int(x) == 0:\n",
    "                temp3.append(False)\n",
    "            elif int(x) == 1:\n",
    "                temp3.append(True)\n",
    "            else:\n",
    "                print(\"ERROR... ERROR... ERROR... value:\",x)\n",
    "        temp.append(temp3)\n",
    "print(len(icd_inputs))\n",
    "print(len(icd_inputs[0]))\n",
    "print(len(icd_inputs[0][0]))"
   ]
  },
  {
   "cell_type": "code",
   "execution_count": 19,
   "metadata": {},
   "outputs": [
    {
     "name": "stdout",
     "output_type": "stream",
     "text": [
      "6871\n",
      "19\n"
     ]
    }
   ],
   "source": [
    "# reads multi-hot ICD inputs\n",
    "f = open('training data - outputs - '+ data_aggr +'.txt','r')\n",
    "icd_outputs = []\n",
    "temp = []\n",
    "for line in f:\n",
    "    temp = []\n",
    "    temp2 = list(line[1:-2].strip(' ').split(','))\n",
    "    for x in temp2:\n",
    "        if int(x) == 1:\n",
    "            temp.append(True)\n",
    "        elif int(x) == 0:\n",
    "            temp.append(False)\n",
    "        else:\n",
    "            print(\"ERROR... ERROR... ERROR... value:\",x)\n",
    "    icd_outputs.append(temp)\n",
    "print(len(icd_outputs))\n",
    "print(len(icd_outputs[0]))\n",
    "data_sample_size = len(icd_outputs)"
   ]
  },
  {
   "cell_type": "code",
   "execution_count": 20,
   "metadata": {},
   "outputs": [],
   "source": [
    "# Determines how much data to read from dataset   (default is 6871)\n",
    "data_max_read = 6871"
   ]
  },
  {
   "cell_type": "code",
   "execution_count": 21,
   "metadata": {},
   "outputs": [],
   "source": [
    "# RUN ONLY IN COMBINATION WITH DATA_MAX_READ. THIS IS TO CUT DATA, IT DOES NOT SHUFFLE. IT IS NOT NECESSARY, ONLY FOR TESTING.\n",
    "\n",
    "real_data_read = 0\n",
    "if data_max_read > len(icd_outputs) or data_max_read <= 1:\n",
    "    real_data_read = len(icd_outputs)\n",
    "else:\n",
    "    real_data_read = data_max_read\n",
    "\n",
    "float_inputs = float_inputs[:data_max_read]\n",
    "onehot_inputs = onehot_inputs[:data_max_read]\n",
    "icd_inputs = icd_inputs[:data_max_read]\n",
    "icd_outputs = icd_outputs[:data_max_read]"
   ]
  },
  {
   "cell_type": "code",
   "execution_count": 22,
   "metadata": {},
   "outputs": [],
   "source": [
    "#padding arrays\n",
    "input_padding_icds = [[0 for i in range(len(icd_inputs[0][0]))] for j in range(len(icd_inputs[0]))]\n",
    "input_padding_floats = [[0 for i in range(len(float_inputs[0][0]))] for j in range(len(float_inputs[0]))]\n",
    "input_padding_onehot = [[0 for i in range(len(onehot_inputs[0][0]))] for j in range(len(onehot_inputs[0]))]\n",
    "output_padding = [0 for i in range(len(icd_outputs[0]))]"
   ]
  },
  {
   "cell_type": "code",
   "execution_count": 23,
   "metadata": {},
   "outputs": [],
   "source": [
    "# set batch size and testing unit split here. timesteps must be set to 41 as it is the max visit sequence length\n",
    "timesteps = 41\n",
    "\"\"\"\n",
    "----------- HYPERPARAMETERS -----------\n",
    "batch_size recommended values: (20,32,64,100)\n",
    "testing_units recommended values: between 0.10 and 0.25\n",
    "\"\"\"\n",
    "batch_size = 20\n",
    "testing_units = 0.10"
   ]
  },
  {
   "cell_type": "code",
   "execution_count": 24,
   "metadata": {},
   "outputs": [],
   "source": [
    "input_ready_icds = icd_inputs\n",
    "input_ready_floats = float_inputs\n",
    "input_ready_onehot = onehot_inputs\n",
    "output_ready_icds = icd_outputs"
   ]
  },
  {
   "cell_type": "code",
   "execution_count": 25,
   "metadata": {},
   "outputs": [],
   "source": [
    "# adds padding to the timeseries sequencies\n",
    "temp = 0\n",
    "while temp < len(input_ready_icds):\n",
    "    temp += batch_size\n",
    "while len(input_ready_icds) < temp:\n",
    "    input_ready_icds.append(input_padding_icds)\n",
    "    \n",
    "temp = 0\n",
    "while temp < len(input_ready_floats):\n",
    "    temp += batch_size\n",
    "while len(input_ready_floats) < temp:\n",
    "    input_ready_floats.append(input_padding_floats)\n",
    "    \n",
    "temp = 0\n",
    "while temp < len(input_ready_onehot):\n",
    "    temp += batch_size\n",
    "while len(input_ready_onehot) < temp:\n",
    "    input_ready_onehot.append(input_padding_onehot)\n",
    "    \n",
    "temp = 0\n",
    "while temp < len(output_ready_icds):\n",
    "    temp += batch_size\n",
    "while len(output_ready_icds) < temp:\n",
    "    output_ready_icds.append(output_padding)\n",
    "\n",
    "input_ready_icds = np.asarray(input_ready_icds)\n",
    "input_ready_floats = np.asarray(input_ready_floats)\n",
    "input_ready_onehot = np.asarray(input_ready_onehot)\n",
    "output_ready_icds = np.asarray(output_ready_icds)"
   ]
  },
  {
   "cell_type": "code",
   "execution_count": 26,
   "metadata": {},
   "outputs": [],
   "source": [
    "icd_input_length = len(icd_inputs[0][0])\n",
    "icd_output_length = len(icd_outputs[0])"
   ]
  },
  {
   "cell_type": "code",
   "execution_count": 27,
   "metadata": {},
   "outputs": [],
   "source": [
    "# activation_function values are \"sigmoid\" or \"softmax\"\n",
    "\"\"\"\n",
    "----------- HYPERPARAMETERS -----------\n",
    "output_activation recommended values: (\"ReLU\", \"sigmoid\", \"softmax\")\n",
    "neuron count is dependent on problem complexity and therefore on data aggregation.\n",
    "second layer count shouldn't be higher than first layer count. Also, min = 20, max = 250\n",
    "\"\"\"\n",
    "output_activation = \"sigmoid\"\n",
    "first_layer_neurons = 150\n",
    "second_layer_neurons = 150"
   ]
  },
  {
   "cell_type": "code",
   "execution_count": 28,
   "metadata": {},
   "outputs": [],
   "source": [
    "# this is where our network is shaped\n",
    "\"\"\"\n",
    "----------- HYPERPARAMETERS -----------\n",
    "hidden_layer_1 and _2 recommended values: (RNN,LSTM,GRU)\n",
    "L1L2 setups\n",
    "layer activation functions: \"sigmoid\" or \"ReLU\"\n",
    "\"\"\"\n",
    "\n",
    "float_input_layer = keras.Input(shape=(timesteps,float_input_length),batch_size = batch_size,name=\"floats\")\n",
    "onehot_input_layer = keras.Input(shape=(timesteps,onehot_input_length),batch_size = batch_size,name=\"onehot\")\n",
    "icd_input_layer = keras.Input(shape=(timesteps,icd_input_length),batch_size = batch_size,name=\"icds\")\n",
    "merger = layers.concatenate([float_input_layer, onehot_input_layer, icd_input_layer])\n",
    "\n",
    "hidden_layer_1 = layers.LSTM(\n",
    "    recurrent_activation=\"sigmoid\",\n",
    "    kernel_regularizer=regularizers.L1L2(l1=1e-5, l2=1e-4), bias_regularizer=regularizers.L1L2(l1=1e-5, l2=1e-4), activity_regularizer=regularizers.L1L2(l1=1e-5, l2=1e-4),\n",
    "    units=first_layer_neurons, activation=\"sigmoid\", return_sequences=True)(merger)\n",
    "\n",
    "hidden_layer_2 = layers.LSTM(\n",
    "    recurrent_activation=\"sigmoid\",\n",
    "    kernel_regularizer=regularizers.L1L2(l1=1e-5, l2=1e-4), bias_regularizer=regularizers.L1L2(l1=1e-5, l2=1e-4), activity_regularizer=regularizers.L1L2(l1=1e-5, l2=1e-4),\n",
    "    units=second_layer_neurons, activation=\"sigmoid\", return_sequences=False)(hidden_layer_1)\n",
    "\n",
    "output_layer = layers.Dense(\n",
    "    #kernel_regularizer=regularizers.L1L2(l1=1e-5, l2=1e-4), bias_regularizer=regularizers.L1L2(l1=1e-5, l2=1e-4), activity_regularizer=regularizers.L1L2(l1=1e-5, l2=1e-4),\n",
    "    units=icd_output_length, activation=output_activation)(hidden_layer_2)\n",
    "model = keras.Model(inputs=[float_input_layer, onehot_input_layer, icd_input_layer], outputs=output_layer, name=\"RNN_for_patient_ICD_prediction\")"
   ]
  },
  {
   "cell_type": "code",
   "execution_count": 29,
   "metadata": {
    "scrolled": true
   },
   "outputs": [
    {
     "name": "stdout",
     "output_type": "stream",
     "text": [
      "Model: \"RNN_for_patient_ICD_prediction\"\n",
      "__________________________________________________________________________________________________\n",
      "Layer (type)                    Output Shape         Param #     Connected to                     \n",
      "==================================================================================================\n",
      "floats (InputLayer)             [(20, 41, 2)]        0                                            \n",
      "__________________________________________________________________________________________________\n",
      "onehot (InputLayer)             [(20, 41, 17)]       0                                            \n",
      "__________________________________________________________________________________________________\n",
      "icds (InputLayer)               [(20, 41, 19)]       0                                            \n",
      "__________________________________________________________________________________________________\n",
      "concatenate (Concatenate)       (20, 41, 38)         0           floats[0][0]                     \n",
      "                                                                 onehot[0][0]                     \n",
      "                                                                 icds[0][0]                       \n",
      "__________________________________________________________________________________________________\n",
      "lstm (LSTM)                     (20, 41, 150)        113400      concatenate[0][0]                \n",
      "__________________________________________________________________________________________________\n",
      "lstm_1 (LSTM)                   (20, 150)            180600      lstm[0][0]                       \n",
      "__________________________________________________________________________________________________\n",
      "dense (Dense)                   (20, 19)             2869        lstm_1[0][0]                     \n",
      "==================================================================================================\n",
      "Total params: 296,869\n",
      "Trainable params: 296,869\n",
      "Non-trainable params: 0\n",
      "__________________________________________________________________________________________________\n"
     ]
    }
   ],
   "source": [
    "model.summary()"
   ]
  },
  {
   "cell_type": "code",
   "execution_count": 30,
   "metadata": {},
   "outputs": [
    {
     "data": {
      "image/png": "[encoded data removed]",
      "text/plain": [
       "<IPython.core.display.Image object>"
      ]
     },
     "execution_count": 30,
     "metadata": {},
     "output_type": "execute_result"
    }
   ],
   "source": [
    "keras.utils.plot_model(model, \"RNN for patient ICD prediction.png\", show_shapes=True)"
   ]
  },
  {
   "cell_type": "code",
   "execution_count": 31,
   "metadata": {},
   "outputs": [],
   "source": [
    "# this is the flexible learning rate scheduler\n",
    "\"\"\"\n",
    "----------- HYPERPARAMETERS -----------\n",
    "the two variables express the number of epochs at which the change will start and the rate at which it decays\n",
    "\"\"\"\n",
    "def scheduler(epoch, lr):\n",
    "    if epoch < 3:\n",
    "        return lr\n",
    "    else:\n",
    "        return lr * tf.math.exp(-0.02)"
   ]
  },
  {
   "cell_type": "code",
   "execution_count": 32,
   "metadata": {},
   "outputs": [],
   "source": [
    "# RUN THIS AND BELOW TO GET A FRESH RUN\n",
    "flexible_lr = tf.keras.callbacks.LearningRateScheduler(scheduler, verbose = 1)"
   ]
  },
  {
   "cell_type": "code",
   "execution_count": 33,
   "metadata": {},
   "outputs": [],
   "source": [
    "\"\"\"\n",
    "----------- HYPERPARAMETERS -----------\n",
    "epoch count recommended value is 200 with early stopping\n",
    "learning rate multiplier rec. values are all between 0.1 and 4.0\n",
    "\"\"\"\n",
    "epochs = 200\n",
    "lr_mult = 1.1"
   ]
  },
  {
   "cell_type": "code",
   "execution_count": 34,
   "metadata": {},
   "outputs": [],
   "source": [
    "# True for softmax, False for sigmoid, automated\n",
    "\n",
    "if output_activation == \"sigmoid\": logit_flag = False\n",
    "else: logit_flag = True\n",
    "if(logit_flag):\n",
    "    threshold_value = 0.0\n",
    "else:\n",
    "    threshold_value = 0.5"
   ]
  },
  {
   "cell_type": "code",
   "execution_count": 35,
   "metadata": {},
   "outputs": [],
   "source": [
    "\"\"\"\n",
    "----------- HYPERPARAMETERS -----------\n",
    "optimizer recommended: default Adam\n",
    "\"\"\"\n",
    "\n",
    "#opt = tf.keras.optimizers.SGD(learning_rate = 0.01)\n",
    "#opt = tf.keras.optimizers.Adam()\n",
    "#opt = tf.keras.optimizers.Adam(learning_rate=0.03, beta_1=0.9, beta_2=0.999, epsilon=1e-7, decay=0.01, amsgrad=False)\n",
    "opt = tf.keras.optimizers.Adam(learning_rate=0.01*lr_mult, amsgrad=True)\n",
    "#opt = tf.keras.optimizers.SGD(learning_rate=0.02, decay=1e-6, momentum=0.9, nesterov=True)\n",
    "\n",
    "#opt = tfa.optimizers.MovingAverage(opt)"
   ]
  },
  {
   "cell_type": "code",
   "execution_count": 36,
   "metadata": {},
   "outputs": [],
   "source": [
    "\"\"\"\n",
    "----------- NOT EXACTLY HYPERPARAMETERS -----------\n",
    "threshold values determine False and True positives and negatives that precision and recall are based off of\n",
    "recommended values: between 0.20 and 0.80\n",
    "\"\"\"\n",
    "# at **11 it predicts all positives with an F1 0.025 - 0.026 (4digit)\n",
    "# **3 got .17 F! as 3digit\n",
    "threshold_value = 0.1**1\n",
    "threshold_value = 0.27"
   ]
  },
  {
   "cell_type": "code",
   "execution_count": 37,
   "metadata": {},
   "outputs": [],
   "source": [
    "# finally, we compile our network\n",
    "\"\"\"\n",
    "----------- HYPERPARAMETERS -----------\n",
    "loss function should be BCE, but maybe try these in the future (Hinge, Focal, Jaccard)\n",
    "loss label smoothing: between 0.0 and 0.20\n",
    "\"\"\"\n",
    "model.compile(\n",
    "    loss=tf.keras.losses.BinaryCrossentropy(from_logits=logit_flag,label_smoothing=0.0),\n",
    "    #loss=tf.keras.losses.Hinge(),\n",
    "    #loss=tf.keras.losses.CategoricalCrossentropy(from_logits=True), #for one-hot representation (or multi-label)\n",
    "    #loss=tf.keras.losses.SparseCategoricalCrossentropy(from_logits=True), #for integer representation (or multi-class which this isn't)\n",
    "    optimizer=opt,\n",
    "    metrics=[\"accuracy\",\n",
    "             tfa.metrics.HammingLoss(mode=\"multilabel\"),\n",
    "             tf.keras.metrics.Recall(thresholds = threshold_value),\n",
    "             tf.keras.metrics.Precision(thresholds = threshold_value),\n",
    "             #tf.keras.metrics.AUC(curve='PR', multi_label=False), # THIS SHOULD BE TRUE, ALSO FROM_LOGITS SHOULD BE SET\n",
    "             tf.keras.metrics.AUC(multi_label=False), # THIS SHOULD BE TRUE, ALSO FROM_LOGITS SHOULD BE SET\n",
    "             tf.keras.metrics.CategoricalAccuracy(),\n",
    "             tf.keras.metrics.TruePositives(thresholds = threshold_value),\n",
    "             tf.keras.metrics.TrueNegatives(thresholds = threshold_value),\n",
    "             tf.keras.metrics.FalsePositives(thresholds = threshold_value),\n",
    "             tf.keras.metrics.FalseNegatives(thresholds = threshold_value),\n",
    "             tfa.metrics.F1Score(num_classes=icd_output_length,threshold = threshold_value),\n",
    "            ],\n",
    "    run_eagerly=True\n",
    ")"
   ]
  },
  {
   "cell_type": "code",
   "execution_count": 38,
   "metadata": {},
   "outputs": [
    {
     "data": {
      "text/plain": [
       "534"
      ]
     },
     "execution_count": 38,
     "metadata": {},
     "output_type": "execute_result"
    }
   ],
   "source": [
    "# sets random state to be used in network setup\n",
    "random_state = np.random.randint(0,1000+1)\n",
    "random_state"
   ]
  },
  {
   "cell_type": "code",
   "execution_count": 39,
   "metadata": {},
   "outputs": [],
   "source": [
    "# sets time variable for log names\n",
    "now = datetime.now()\n",
    "logname = now.strftime(' %d %B %Y - %H;%M;%S') # can't use ':' for some reason\n",
    "csv_logger = CSVLogger('logs/00 training' + logname + ' - ' + data_aggr + '.csv', append=True) # need append otherwise it deletes old logs"
   ]
  },
  {
   "cell_type": "code",
   "execution_count": 40,
   "metadata": {},
   "outputs": [],
   "source": [
    "# creates run hyperparameters log\n",
    "with open('logs/01 training hyperparameters' + logname + ' - ' + data_aggr + '.txt', 'w') as f:\n",
    "    p=''\n",
    "    if(padding_after == 1): p ='after'\n",
    "    else: p='before'\n",
    "    f.write('data aggregation = ' + data_aggr + '\\npadding = '+ p + '\\n1st layer neurons = '+ str(first_layer_neurons) + '\\n2nd layer neurons = ' + str(second_layer_neurons) + '\\nepochs = ' + str(epochs) + '\\nbatch size = ' + str(batch_size) + '\\ntesting units = ' + str(testing_units) +  '\\nthreshold value = ' + str(threshold_value) + '\\ninstances read = ' + str(data_max_read) + '(data sample size = ' + str(data_sample_size) + ')' + '\\noptimizer = ' + str(model.optimizer.get_config()) + '\\nrandom state = ' + str(random_state))\n",
    "    f.close()"
   ]
  },
  {
   "cell_type": "code",
   "execution_count": 41,
   "metadata": {},
   "outputs": [
    {
     "name": "stdout",
     "output_type": "stream",
     "text": [
      "categorical\n"
     ]
    }
   ],
   "source": [
    "# just a print\n",
    "print(data_aggr)"
   ]
  },
  {
   "cell_type": "code",
   "execution_count": 42,
   "metadata": {},
   "outputs": [],
   "source": [
    "# set this to 1 and input weight name file if you wish to load weights to the network\n",
    "if(0):\n",
    "    print('Weights loaded...')\n",
    "    model.load_weights(' 04 March 2023 - 15;35;41 - 3digit weights 95.h5')"
   ]
  },
  {
   "cell_type": "code",
   "execution_count": 43,
   "metadata": {},
   "outputs": [
    {
     "name": "stdout",
     "output_type": "stream",
     "text": [
      "Train on 6192 samples, validate on 688 samples\n",
      "\n",
      "Epoch 00001: LearningRateScheduler reducing learning rate to 0.010999999940395355.\n",
      "Epoch 1/200\n",
      "6192/6192 [==============================] - 63s 10ms/sample - loss: 0.5378 - accuracy: 0.7128 - hamming_loss: 0.3409 - recall: 0.8889 - precision: 0.5303 - auc: 0.7929 - categorical_accuracy: 0.0202 - true_positives: 39862.0000 - true_negatives: 37495.0000 - false_positives: 35310.0000 - false_negatives: 4981.0000 - f1_score: 0.4536 - val_loss: 0.5281 - val_accuracy: 0.7115 - val_hamming_loss: 0.3390 - val_recall: 0.8361 - val_precision: 0.5445 - val_auc: 0.7876 - val_categorical_accuracy: 0.0203 - val_true_positives: 4121.0000 - val_true_negatives: 4696.0000 - val_false_positives: 3447.0000 - val_false_negatives: 808.0000 - val_f1_score: 0.4012\n",
      "\n",
      "Epoch 00002: LearningRateScheduler reducing learning rate to 0.010999999940395355.\n",
      "Epoch 2/200\n",
      "6180/6192 [============================>.] - ETA: 0s - loss: 0.5192 - accuracy: 0.7154 - hamming_loss: 0.3407 - recall: 0.8906 - precision: 0.5349 - auc: 0.7959 - categorical_accuracy: 0.0191 - true_positives: 39858.0000 - true_negatives: 38006.0000 - false_positives: 34662.0000 - false_negatives: 4894.0000 - f1_score: 0.4416\n",
      "Val_loss diff: -0.003244580397772201\n",
      "Val_accuracy diff: -0.7115207314491272\n",
      "6192/6192 [==============================] - 60s 10ms/sample - loss: 0.5192 - accuracy: 0.7154 - hamming_loss: 0.3407 - recall: 0.8904 - precision: 0.5348 - auc: 0.7959 - categorical_accuracy: 0.0192 - true_positives: 39927.0000 - true_negatives: 38080.0000 - false_positives: 34725.0000 - false_negatives: 4916.0000 - f1_score: 0.4415 - val_loss: 0.5249 - val_accuracy: 0.7141 - val_hamming_loss: 0.3390 - val_recall: 0.8373 - val_precision: 0.5453 - val_auc: 0.7894 - val_categorical_accuracy: 0.0203 - val_true_positives: 4127.0000 - val_true_negatives: 4702.0000 - val_false_positives: 3441.0000 - val_false_negatives: 802.0000 - val_f1_score: 0.4018\n",
      "\n",
      "Epoch 00003: LearningRateScheduler reducing learning rate to 0.010999999940395355.\n",
      "Epoch 3/200\n",
      "6180/6192 [============================>.] - ETA: 0s - loss: 0.5176 - accuracy: 0.7164 - hamming_loss: 0.3406 - recall: 0.8874 - precision: 0.5349 - auc: 0.7964 - categorical_accuracy: 0.0193 - true_positives: 39708.0000 - true_negatives: 38144.0000 - false_positives: 34532.0000 - false_negatives: 5036.0000 - f1_score: 0.4428\n",
      "Val_loss diff: -0.001818257189074246\n",
      "Val_accuracy diff: 0.0\n",
      "6192/6192 [==============================] - 59s 10ms/sample - loss: 0.5175 - accuracy: 0.7165 - hamming_loss: 0.3407 - recall: 0.8875 - precision: 0.5350 - auc: 0.7965 - categorical_accuracy: 0.0192 - true_positives: 39796.0000 - true_negatives: 38217.0000 - false_positives: 34588.0000 - false_negatives: 5047.0000 - f1_score: 0.4428 - val_loss: 0.5231 - val_accuracy: 0.7140 - val_hamming_loss: 0.3390 - val_recall: 0.8815 - val_precision: 0.5263 - val_auc: 0.7885 - val_categorical_accuracy: 0.0203 - val_true_positives: 4345.0000 - val_true_negatives: 4232.0000 - val_false_positives: 3911.0000 - val_false_negatives: 584.0000 - val_f1_score: 0.4271\n",
      "\n",
      "Epoch 00004: LearningRateScheduler reducing learning rate to tf.Tensor(0.010782185, shape=(), dtype=float32).\n",
      "Epoch 4/200\n",
      "6180/6192 [============================>.] - ETA: 0s - loss: 0.5168 - accuracy: 0.7169 - hamming_loss: 0.3408 - recall: 0.8895 - precision: 0.5359 - auc: 0.7964 - categorical_accuracy: 0.0193 - true_positives: 39815.0000 - true_negatives: 38175.0000 - false_positives: 34485.0000 - false_negatives: 4945.0000 - f1_score: 0.4369\n",
      "Val_loss diff: -0.0005336150873539447\n",
      "Val_accuracy diff: 0.0\n",
      "6192/6192 [==============================] - 57s 9ms/sample - loss: 0.5167 - accuracy: 0.7169 - hamming_loss: 0.3407 - recall: 0.8896 - precision: 0.5359 - auc: 0.7964 - categorical_accuracy: 0.0192 - true_positives: 39893.0000 - true_negatives: 38254.0000 - false_positives: 34551.0000 - false_negatives: 4950.0000 - f1_score: 0.4369 - val_loss: 0.5225 - val_accuracy: 0.7100 - val_hamming_loss: 0.3390 - val_recall: 0.8815 - val_precision: 0.5263 - val_auc: 0.7885 - val_categorical_accuracy: 0.0203 - val_true_positives: 4345.0000 - val_true_negatives: 4232.0000 - val_false_positives: 3911.0000 - val_false_negatives: 584.0000 - val_f1_score: 0.4271\n",
      "\n",
      "Epoch 00005: LearningRateScheduler reducing learning rate to tf.Tensor(0.010568684, shape=(), dtype=float32).\n",
      "Epoch 5/200\n",
      "1200/6192 [====>.........................] - ETA: 42s - loss: 0.5175 - accuracy: 0.7178 - hamming_loss: 0.3401 - recall: 0.8877 - precision: 0.5344 - auc: 0.7950 - categorical_accuracy: 0.0212 - true_positives: 7567.0000 - true_negatives: 7303.0000 - false_positives: 6593.0000 - false_negatives: 957.0000 - f1_score: 0.4311"
     ]
    },
    {
     "ename": "KeyError",
     "evalue": "'val_accuracy'",
     "output_type": "error",
     "traceback": [
      "\u001b[1;31m---------------------------------------------------------------------------\u001b[0m",
      "\u001b[1;31mKeyboardInterrupt\u001b[0m                         Traceback (most recent call last)",
      "\u001b[1;32m~\\Anaconda3\\envs\\safeclone\\lib\\site-packages\\tensorflow_core\\python\\keras\\engine\\training_v2.py\u001b[0m in \u001b[0;36mon_epoch\u001b[1;34m(self, epoch, mode)\u001b[0m\n\u001b[0;32m    766\u001b[0m     \u001b[1;32mtry\u001b[0m\u001b[1;33m:\u001b[0m\u001b[1;33m\u001b[0m\u001b[1;33m\u001b[0m\u001b[0m\n\u001b[1;32m--> 767\u001b[1;33m       \u001b[1;32myield\u001b[0m \u001b[0mepoch_logs\u001b[0m\u001b[1;33m\u001b[0m\u001b[1;33m\u001b[0m\u001b[0m\n\u001b[0m\u001b[0;32m    768\u001b[0m     \u001b[1;32mfinally\u001b[0m\u001b[1;33m:\u001b[0m\u001b[1;33m\u001b[0m\u001b[1;33m\u001b[0m\u001b[0m\n",
      "\u001b[1;32m~\\Anaconda3\\envs\\safeclone\\lib\\site-packages\\tensorflow_core\\python\\keras\\engine\\training_v2.py\u001b[0m in \u001b[0;36mfit\u001b[1;34m(self, model, x, y, batch_size, epochs, verbose, callbacks, validation_split, validation_data, shuffle, class_weight, sample_weight, initial_epoch, steps_per_epoch, validation_steps, validation_freq, max_queue_size, workers, use_multiprocessing, **kwargs)\u001b[0m\n\u001b[0;32m    341\u001b[0m                 \u001b[0mtraining_context\u001b[0m\u001b[1;33m=\u001b[0m\u001b[0mtraining_context\u001b[0m\u001b[1;33m,\u001b[0m\u001b[1;33m\u001b[0m\u001b[1;33m\u001b[0m\u001b[0m\n\u001b[1;32m--> 342\u001b[1;33m                 total_epochs=epochs)\n\u001b[0m\u001b[0;32m    343\u001b[0m             \u001b[0mcbks\u001b[0m\u001b[1;33m.\u001b[0m\u001b[0mmake_logs\u001b[0m\u001b[1;33m(\u001b[0m\u001b[0mmodel\u001b[0m\u001b[1;33m,\u001b[0m \u001b[0mepoch_logs\u001b[0m\u001b[1;33m,\u001b[0m \u001b[0mtraining_result\u001b[0m\u001b[1;33m,\u001b[0m \u001b[0mModeKeys\u001b[0m\u001b[1;33m.\u001b[0m\u001b[0mTRAIN\u001b[0m\u001b[1;33m)\u001b[0m\u001b[1;33m\u001b[0m\u001b[1;33m\u001b[0m\u001b[0m\n",
      "\u001b[1;32m~\\Anaconda3\\envs\\safeclone\\lib\\site-packages\\tensorflow_core\\python\\keras\\engine\\training_v2.py\u001b[0m in \u001b[0;36mrun_one_epoch\u001b[1;34m(model, iterator, execution_function, dataset_size, batch_size, strategy, steps_per_epoch, num_samples, mode, training_context, total_epochs)\u001b[0m\n\u001b[0;32m    127\u001b[0m       \u001b[1;32mtry\u001b[0m\u001b[1;33m:\u001b[0m\u001b[1;33m\u001b[0m\u001b[1;33m\u001b[0m\u001b[0m\n\u001b[1;32m--> 128\u001b[1;33m         \u001b[0mbatch_outs\u001b[0m \u001b[1;33m=\u001b[0m \u001b[0mexecution_function\u001b[0m\u001b[1;33m(\u001b[0m\u001b[0miterator\u001b[0m\u001b[1;33m)\u001b[0m\u001b[1;33m\u001b[0m\u001b[1;33m\u001b[0m\u001b[0m\n\u001b[0m\u001b[0;32m    129\u001b[0m       \u001b[1;32mexcept\u001b[0m \u001b[1;33m(\u001b[0m\u001b[0mStopIteration\u001b[0m\u001b[1;33m,\u001b[0m \u001b[0merrors\u001b[0m\u001b[1;33m.\u001b[0m\u001b[0mOutOfRangeError\u001b[0m\u001b[1;33m)\u001b[0m\u001b[1;33m:\u001b[0m\u001b[1;33m\u001b[0m\u001b[1;33m\u001b[0m\u001b[0m\n",
      "\u001b[1;32m~\\Anaconda3\\envs\\safeclone\\lib\\site-packages\\tensorflow_core\\python\\keras\\engine\\training_v2_utils.py\u001b[0m in \u001b[0;36mexecution_function\u001b[1;34m(input_fn)\u001b[0m\n\u001b[0;32m     97\u001b[0m     return nest.map_structure(_non_none_constant_value,\n\u001b[1;32m---> 98\u001b[1;33m                               distributed_function(input_fn))\n\u001b[0m\u001b[0;32m     99\u001b[0m \u001b[1;33m\u001b[0m\u001b[0m\n",
      "\u001b[1;32m~\\Anaconda3\\envs\\safeclone\\lib\\site-packages\\tensorflow_core\\python\\keras\\engine\\training_v2_utils.py\u001b[0m in \u001b[0;36mdistributed_function\u001b[1;34m(input_iterator)\u001b[0m\n\u001b[0;32m     84\u001b[0m     outputs = strategy.experimental_run_v2(\n\u001b[1;32m---> 85\u001b[1;33m         per_replica_function, args=args)\n\u001b[0m\u001b[0;32m     86\u001b[0m     \u001b[1;31m# Out of PerReplica outputs reduce or pick values to return.\u001b[0m\u001b[1;33m\u001b[0m\u001b[1;33m\u001b[0m\u001b[1;33m\u001b[0m\u001b[0m\n",
      "\u001b[1;32m~\\Anaconda3\\envs\\safeclone\\lib\\site-packages\\tensorflow_core\\python\\distribute\\distribute_lib.py\u001b[0m in \u001b[0;36mexperimental_run_v2\u001b[1;34m(self, fn, args, kwargs)\u001b[0m\n\u001b[0;32m    762\u001b[0m                                 convert_by_default=False)\n\u001b[1;32m--> 763\u001b[1;33m       \u001b[1;32mreturn\u001b[0m \u001b[0mself\u001b[0m\u001b[1;33m.\u001b[0m\u001b[0m_extended\u001b[0m\u001b[1;33m.\u001b[0m\u001b[0mcall_for_each_replica\u001b[0m\u001b[1;33m(\u001b[0m\u001b[0mfn\u001b[0m\u001b[1;33m,\u001b[0m \u001b[0margs\u001b[0m\u001b[1;33m=\u001b[0m\u001b[0margs\u001b[0m\u001b[1;33m,\u001b[0m \u001b[0mkwargs\u001b[0m\u001b[1;33m=\u001b[0m\u001b[0mkwargs\u001b[0m\u001b[1;33m)\u001b[0m\u001b[1;33m\u001b[0m\u001b[1;33m\u001b[0m\u001b[0m\n\u001b[0m\u001b[0;32m    764\u001b[0m \u001b[1;33m\u001b[0m\u001b[0m\n",
      "\u001b[1;32m~\\Anaconda3\\envs\\safeclone\\lib\\site-packages\\tensorflow_core\\python\\distribute\\distribute_lib.py\u001b[0m in \u001b[0;36mcall_for_each_replica\u001b[1;34m(self, fn, args, kwargs)\u001b[0m\n\u001b[0;32m   1818\u001b[0m     \u001b[1;32mwith\u001b[0m \u001b[0mself\u001b[0m\u001b[1;33m.\u001b[0m\u001b[0m_container_strategy\u001b[0m\u001b[1;33m(\u001b[0m\u001b[1;33m)\u001b[0m\u001b[1;33m.\u001b[0m\u001b[0mscope\u001b[0m\u001b[1;33m(\u001b[0m\u001b[1;33m)\u001b[0m\u001b[1;33m:\u001b[0m\u001b[1;33m\u001b[0m\u001b[1;33m\u001b[0m\u001b[0m\n\u001b[1;32m-> 1819\u001b[1;33m       \u001b[1;32mreturn\u001b[0m \u001b[0mself\u001b[0m\u001b[1;33m.\u001b[0m\u001b[0m_call_for_each_replica\u001b[0m\u001b[1;33m(\u001b[0m\u001b[0mfn\u001b[0m\u001b[1;33m,\u001b[0m \u001b[0margs\u001b[0m\u001b[1;33m,\u001b[0m \u001b[0mkwargs\u001b[0m\u001b[1;33m)\u001b[0m\u001b[1;33m\u001b[0m\u001b[1;33m\u001b[0m\u001b[0m\n\u001b[0m\u001b[0;32m   1820\u001b[0m \u001b[1;33m\u001b[0m\u001b[0m\n",
      "\u001b[1;32m~\\Anaconda3\\envs\\safeclone\\lib\\site-packages\\tensorflow_core\\python\\distribute\\distribute_lib.py\u001b[0m in \u001b[0;36m_call_for_each_replica\u001b[1;34m(self, fn, args, kwargs)\u001b[0m\n\u001b[0;32m   2163\u001b[0m         replica_id_in_sync_group=constant_op.constant(0, dtypes.int32)):\n\u001b[1;32m-> 2164\u001b[1;33m       \u001b[1;32mreturn\u001b[0m \u001b[0mfn\u001b[0m\u001b[1;33m(\u001b[0m\u001b[1;33m*\u001b[0m\u001b[0margs\u001b[0m\u001b[1;33m,\u001b[0m \u001b[1;33m**\u001b[0m\u001b[0mkwargs\u001b[0m\u001b[1;33m)\u001b[0m\u001b[1;33m\u001b[0m\u001b[1;33m\u001b[0m\u001b[0m\n\u001b[0m\u001b[0;32m   2165\u001b[0m \u001b[1;33m\u001b[0m\u001b[0m\n",
      "\u001b[1;32m~\\Anaconda3\\envs\\safeclone\\lib\\site-packages\\tensorflow_core\\python\\autograph\\impl\\api.py\u001b[0m in \u001b[0;36mwrapper\u001b[1;34m(*args, **kwargs)\u001b[0m\n\u001b[0;32m    257\u001b[0m     \u001b[1;32mwith\u001b[0m \u001b[0mag_ctx\u001b[0m\u001b[1;33m.\u001b[0m\u001b[0mControlStatusCtx\u001b[0m\u001b[1;33m(\u001b[0m\u001b[0mstatus\u001b[0m\u001b[1;33m=\u001b[0m\u001b[0mag_ctx\u001b[0m\u001b[1;33m.\u001b[0m\u001b[0mStatus\u001b[0m\u001b[1;33m.\u001b[0m\u001b[0mUNSPECIFIED\u001b[0m\u001b[1;33m)\u001b[0m\u001b[1;33m:\u001b[0m\u001b[1;33m\u001b[0m\u001b[1;33m\u001b[0m\u001b[0m\n\u001b[1;32m--> 258\u001b[1;33m       \u001b[1;32mreturn\u001b[0m \u001b[0mfunc\u001b[0m\u001b[1;33m(\u001b[0m\u001b[1;33m*\u001b[0m\u001b[0margs\u001b[0m\u001b[1;33m,\u001b[0m \u001b[1;33m**\u001b[0m\u001b[0mkwargs\u001b[0m\u001b[1;33m)\u001b[0m\u001b[1;33m\u001b[0m\u001b[1;33m\u001b[0m\u001b[0m\n\u001b[0m\u001b[0;32m    259\u001b[0m \u001b[1;33m\u001b[0m\u001b[0m\n",
      "\u001b[1;32m~\\Anaconda3\\envs\\safeclone\\lib\\site-packages\\tensorflow_core\\python\\keras\\engine\\training_v2_utils.py\u001b[0m in \u001b[0;36mtrain_on_batch\u001b[1;34m(model, x, y, sample_weight, class_weight, reset_metrics, standalone)\u001b[0m\n\u001b[0;32m    432\u001b[0m       \u001b[0msample_weights\u001b[0m\u001b[1;33m=\u001b[0m\u001b[0msample_weights\u001b[0m\u001b[1;33m,\u001b[0m\u001b[1;33m\u001b[0m\u001b[1;33m\u001b[0m\u001b[0m\n\u001b[1;32m--> 433\u001b[1;33m       output_loss_metrics=model._output_loss_metrics)\n\u001b[0m\u001b[0;32m    434\u001b[0m \u001b[1;33m\u001b[0m\u001b[0m\n",
      "\u001b[1;32m~\\Anaconda3\\envs\\safeclone\\lib\\site-packages\\tensorflow_core\\python\\keras\\engine\\training_eager.py\u001b[0m in \u001b[0;36mtrain_on_batch\u001b[1;34m(model, inputs, targets, sample_weights, output_loss_metrics)\u001b[0m\n\u001b[0;32m    311\u001b[0m           \u001b[0mtraining\u001b[0m\u001b[1;33m=\u001b[0m\u001b[1;32mTrue\u001b[0m\u001b[1;33m,\u001b[0m\u001b[1;33m\u001b[0m\u001b[1;33m\u001b[0m\u001b[0m\n\u001b[1;32m--> 312\u001b[1;33m           output_loss_metrics=output_loss_metrics))\n\u001b[0m\u001b[0;32m    313\u001b[0m   \u001b[1;32mif\u001b[0m \u001b[1;32mnot\u001b[0m \u001b[0misinstance\u001b[0m\u001b[1;33m(\u001b[0m\u001b[0mouts\u001b[0m\u001b[1;33m,\u001b[0m \u001b[0mlist\u001b[0m\u001b[1;33m)\u001b[0m\u001b[1;33m:\u001b[0m\u001b[1;33m\u001b[0m\u001b[1;33m\u001b[0m\u001b[0m\n",
      "\u001b[1;32m~\\Anaconda3\\envs\\safeclone\\lib\\site-packages\\tensorflow_core\\python\\keras\\engine\\training_eager.py\u001b[0m in \u001b[0;36m_process_single_batch\u001b[1;34m(model, inputs, targets, output_loss_metrics, sample_weights, training)\u001b[0m\n\u001b[0;32m    268\u001b[0m         \u001b[1;32melse\u001b[0m\u001b[1;33m:\u001b[0m\u001b[1;33m\u001b[0m\u001b[1;33m\u001b[0m\u001b[0m\n\u001b[1;32m--> 269\u001b[1;33m           \u001b[0mgrads\u001b[0m \u001b[1;33m=\u001b[0m \u001b[0mtape\u001b[0m\u001b[1;33m.\u001b[0m\u001b[0mgradient\u001b[0m\u001b[1;33m(\u001b[0m\u001b[0mscaled_total_loss\u001b[0m\u001b[1;33m,\u001b[0m \u001b[0mtrainable_weights\u001b[0m\u001b[1;33m)\u001b[0m\u001b[1;33m\u001b[0m\u001b[1;33m\u001b[0m\u001b[0m\n\u001b[0m\u001b[0;32m    270\u001b[0m           if isinstance(model.optimizer,\n",
      "\u001b[1;32m~\\Anaconda3\\envs\\safeclone\\lib\\site-packages\\tensorflow_core\\python\\eager\\backprop.py\u001b[0m in \u001b[0;36mgradient\u001b[1;34m(self, target, sources, output_gradients, unconnected_gradients)\u001b[0m\n\u001b[0;32m   1028\u001b[0m         \u001b[0msources_raw\u001b[0m\u001b[1;33m=\u001b[0m\u001b[0mflat_sources_raw\u001b[0m\u001b[1;33m,\u001b[0m\u001b[1;33m\u001b[0m\u001b[1;33m\u001b[0m\u001b[0m\n\u001b[1;32m-> 1029\u001b[1;33m         unconnected_gradients=unconnected_gradients)\n\u001b[0m\u001b[0;32m   1030\u001b[0m \u001b[1;33m\u001b[0m\u001b[0m\n",
      "\u001b[1;32m~\\Anaconda3\\envs\\safeclone\\lib\\site-packages\\tensorflow_core\\python\\eager\\imperative_grad.py\u001b[0m in \u001b[0;36mimperative_grad\u001b[1;34m(tape, target, sources, output_gradients, sources_raw, unconnected_gradients)\u001b[0m\n\u001b[0;32m     76\u001b[0m       \u001b[0msources_raw\u001b[0m\u001b[1;33m,\u001b[0m\u001b[1;33m\u001b[0m\u001b[1;33m\u001b[0m\u001b[0m\n\u001b[1;32m---> 77\u001b[1;33m       compat.as_str(unconnected_gradients.value))\n\u001b[0m",
      "\u001b[1;32m~\\Anaconda3\\envs\\safeclone\\lib\\site-packages\\tensorflow_core\\python\\eager\\backprop.py\u001b[0m in \u001b[0;36m_gradient_function\u001b[1;34m(op_name, attr_tuple, num_inputs, inputs, outputs, out_grads, skip_input_indices)\u001b[0m\n\u001b[0;32m    140\u001b[0m \u001b[1;33m\u001b[0m\u001b[0m\n\u001b[1;32m--> 141\u001b[1;33m   \u001b[1;32mreturn\u001b[0m \u001b[0mgrad_fn\u001b[0m\u001b[1;33m(\u001b[0m\u001b[0mmock_op\u001b[0m\u001b[1;33m,\u001b[0m \u001b[1;33m*\u001b[0m\u001b[0mout_grads\u001b[0m\u001b[1;33m)\u001b[0m\u001b[1;33m\u001b[0m\u001b[1;33m\u001b[0m\u001b[0m\n\u001b[0m\u001b[0;32m    142\u001b[0m \u001b[1;33m\u001b[0m\u001b[0m\n",
      "\u001b[1;32m~\\Anaconda3\\envs\\safeclone\\lib\\site-packages\\tensorflow_core\\python\\ops\\math_grad.py\u001b[0m in \u001b[0;36m_MulGrad\u001b[1;34m(op, grad)\u001b[0m\n\u001b[0;32m   1221\u001b[0m       grad.dtype in (dtypes.int32, dtypes.float32)):\n\u001b[1;32m-> 1222\u001b[1;33m     \u001b[1;32mreturn\u001b[0m \u001b[0mgen_math_ops\u001b[0m\u001b[1;33m.\u001b[0m\u001b[0mmul\u001b[0m\u001b[1;33m(\u001b[0m\u001b[0mgrad\u001b[0m\u001b[1;33m,\u001b[0m \u001b[0my\u001b[0m\u001b[1;33m)\u001b[0m\u001b[1;33m,\u001b[0m \u001b[0mgen_math_ops\u001b[0m\u001b[1;33m.\u001b[0m\u001b[0mmul\u001b[0m\u001b[1;33m(\u001b[0m\u001b[0mgrad\u001b[0m\u001b[1;33m,\u001b[0m \u001b[0mx\u001b[0m\u001b[1;33m)\u001b[0m\u001b[1;33m\u001b[0m\u001b[1;33m\u001b[0m\u001b[0m\n\u001b[0m\u001b[0;32m   1223\u001b[0m   \u001b[1;32massert\u001b[0m \u001b[0mx\u001b[0m\u001b[1;33m.\u001b[0m\u001b[0mdtype\u001b[0m\u001b[1;33m.\u001b[0m\u001b[0mbase_dtype\u001b[0m \u001b[1;33m==\u001b[0m \u001b[0my\u001b[0m\u001b[1;33m.\u001b[0m\u001b[0mdtype\u001b[0m\u001b[1;33m.\u001b[0m\u001b[0mbase_dtype\u001b[0m\u001b[1;33m,\u001b[0m \u001b[1;33m(\u001b[0m\u001b[0mx\u001b[0m\u001b[1;33m.\u001b[0m\u001b[0mdtype\u001b[0m\u001b[1;33m,\u001b[0m \u001b[1;34m\" vs. \"\u001b[0m\u001b[1;33m,\u001b[0m \u001b[0my\u001b[0m\u001b[1;33m.\u001b[0m\u001b[0mdtype\u001b[0m\u001b[1;33m)\u001b[0m\u001b[1;33m\u001b[0m\u001b[1;33m\u001b[0m\u001b[0m\n",
      "\u001b[1;32m~\\Anaconda3\\envs\\safeclone\\lib\\site-packages\\tensorflow_core\\python\\ops\\gen_math_ops.py\u001b[0m in \u001b[0;36mmul\u001b[1;34m(x, y, name)\u001b[0m\n\u001b[0;32m   6112\u001b[0m         \u001b[0m_ctx\u001b[0m\u001b[1;33m.\u001b[0m\u001b[0m_context_handle\u001b[0m\u001b[1;33m,\u001b[0m \u001b[0mtld\u001b[0m\u001b[1;33m.\u001b[0m\u001b[0mdevice_name\u001b[0m\u001b[1;33m,\u001b[0m \u001b[1;34m\"Mul\"\u001b[0m\u001b[1;33m,\u001b[0m \u001b[0mname\u001b[0m\u001b[1;33m,\u001b[0m \u001b[0mtld\u001b[0m\u001b[1;33m.\u001b[0m\u001b[0mop_callbacks\u001b[0m\u001b[1;33m,\u001b[0m\u001b[1;33m\u001b[0m\u001b[1;33m\u001b[0m\u001b[0m\n\u001b[1;32m-> 6113\u001b[1;33m         x, y)\n\u001b[0m\u001b[0;32m   6114\u001b[0m       \u001b[1;32mreturn\u001b[0m \u001b[0m_result\u001b[0m\u001b[1;33m\u001b[0m\u001b[1;33m\u001b[0m\u001b[0m\n",
      "\u001b[1;31mKeyboardInterrupt\u001b[0m: ",
      "\nDuring handling of the above exception, another exception occurred:\n",
      "\u001b[1;31mKeyError\u001b[0m                                  Traceback (most recent call last)",
      "\u001b[1;32m<ipython-input-43-daf6118ed5fc>\u001b[0m in \u001b[0;36m<module>\u001b[1;34m\u001b[0m\n\u001b[0;32m     27\u001b[0m                \u001b[1;31m#tensorboard_callback,\u001b[0m\u001b[1;33m\u001b[0m\u001b[1;33m\u001b[0m\u001b[1;33m\u001b[0m\u001b[0m\n\u001b[0;32m     28\u001b[0m                \u001b[1;31m#EMAweightswap(),\u001b[0m\u001b[1;33m\u001b[0m\u001b[1;33m\u001b[0m\u001b[1;33m\u001b[0m\u001b[0m\n\u001b[1;32m---> 29\u001b[1;33m                \u001b[0mmodel_checkpoint_callback\u001b[0m\u001b[1;33m\u001b[0m\u001b[1;33m\u001b[0m\u001b[0m\n\u001b[0m\u001b[0;32m     30\u001b[0m               ],\n\u001b[0;32m     31\u001b[0m )\n",
      "\u001b[1;32m~\\Anaconda3\\envs\\safeclone\\lib\\site-packages\\tensorflow_core\\python\\keras\\engine\\training.py\u001b[0m in \u001b[0;36mfit\u001b[1;34m(self, x, y, batch_size, epochs, verbose, callbacks, validation_split, validation_data, shuffle, class_weight, sample_weight, initial_epoch, steps_per_epoch, validation_steps, validation_freq, max_queue_size, workers, use_multiprocessing, **kwargs)\u001b[0m\n\u001b[0;32m    817\u001b[0m         \u001b[0mmax_queue_size\u001b[0m\u001b[1;33m=\u001b[0m\u001b[0mmax_queue_size\u001b[0m\u001b[1;33m,\u001b[0m\u001b[1;33m\u001b[0m\u001b[1;33m\u001b[0m\u001b[0m\n\u001b[0;32m    818\u001b[0m         \u001b[0mworkers\u001b[0m\u001b[1;33m=\u001b[0m\u001b[0mworkers\u001b[0m\u001b[1;33m,\u001b[0m\u001b[1;33m\u001b[0m\u001b[1;33m\u001b[0m\u001b[0m\n\u001b[1;32m--> 819\u001b[1;33m         use_multiprocessing=use_multiprocessing)\n\u001b[0m\u001b[0;32m    820\u001b[0m \u001b[1;33m\u001b[0m\u001b[0m\n\u001b[0;32m    821\u001b[0m   def evaluate(self,\n",
      "\u001b[1;32m~\\Anaconda3\\envs\\safeclone\\lib\\site-packages\\tensorflow_core\\python\\keras\\engine\\training_v2.py\u001b[0m in \u001b[0;36mfit\u001b[1;34m(self, model, x, y, batch_size, epochs, verbose, callbacks, validation_split, validation_data, shuffle, class_weight, sample_weight, initial_epoch, steps_per_epoch, validation_steps, validation_freq, max_queue_size, workers, use_multiprocessing, **kwargs)\u001b[0m\n\u001b[0;32m    395\u001b[0m                       total_epochs=1)\n\u001b[0;32m    396\u001b[0m                   cbks.make_logs(model, epoch_logs, eval_result, ModeKeys.TEST,\n\u001b[1;32m--> 397\u001b[1;33m                                  prefix='val_')\n\u001b[0m\u001b[0;32m    398\u001b[0m \u001b[1;33m\u001b[0m\u001b[0m\n\u001b[0;32m    399\u001b[0m     \u001b[1;32mreturn\u001b[0m \u001b[0mmodel\u001b[0m\u001b[1;33m.\u001b[0m\u001b[0mhistory\u001b[0m\u001b[1;33m\u001b[0m\u001b[1;33m\u001b[0m\u001b[0m\n",
      "\u001b[1;32m~\\Anaconda3\\envs\\safeclone\\lib\\contextlib.py\u001b[0m in \u001b[0;36m__exit__\u001b[1;34m(self, type, value, traceback)\u001b[0m\n\u001b[0;32m    128\u001b[0m                 \u001b[0mvalue\u001b[0m \u001b[1;33m=\u001b[0m \u001b[0mtype\u001b[0m\u001b[1;33m(\u001b[0m\u001b[1;33m)\u001b[0m\u001b[1;33m\u001b[0m\u001b[1;33m\u001b[0m\u001b[0m\n\u001b[0;32m    129\u001b[0m             \u001b[1;32mtry\u001b[0m\u001b[1;33m:\u001b[0m\u001b[1;33m\u001b[0m\u001b[1;33m\u001b[0m\u001b[0m\n\u001b[1;32m--> 130\u001b[1;33m                 \u001b[0mself\u001b[0m\u001b[1;33m.\u001b[0m\u001b[0mgen\u001b[0m\u001b[1;33m.\u001b[0m\u001b[0mthrow\u001b[0m\u001b[1;33m(\u001b[0m\u001b[0mtype\u001b[0m\u001b[1;33m,\u001b[0m \u001b[0mvalue\u001b[0m\u001b[1;33m,\u001b[0m \u001b[0mtraceback\u001b[0m\u001b[1;33m)\u001b[0m\u001b[1;33m\u001b[0m\u001b[1;33m\u001b[0m\u001b[0m\n\u001b[0m\u001b[0;32m    131\u001b[0m             \u001b[1;32mexcept\u001b[0m \u001b[0mStopIteration\u001b[0m \u001b[1;32mas\u001b[0m \u001b[0mexc\u001b[0m\u001b[1;33m:\u001b[0m\u001b[1;33m\u001b[0m\u001b[1;33m\u001b[0m\u001b[0m\n\u001b[0;32m    132\u001b[0m                 \u001b[1;31m# Suppress StopIteration *unless* it's the same exception that\u001b[0m\u001b[1;33m\u001b[0m\u001b[1;33m\u001b[0m\u001b[1;33m\u001b[0m\u001b[0m\n",
      "\u001b[1;32m~\\Anaconda3\\envs\\safeclone\\lib\\site-packages\\tensorflow_core\\python\\keras\\engine\\training_v2.py\u001b[0m in \u001b[0;36mon_epoch\u001b[1;34m(self, epoch, mode)\u001b[0m\n\u001b[0;32m    769\u001b[0m       \u001b[1;32mif\u001b[0m \u001b[0mmode\u001b[0m \u001b[1;33m==\u001b[0m \u001b[0mModeKeys\u001b[0m\u001b[1;33m.\u001b[0m\u001b[0mTRAIN\u001b[0m\u001b[1;33m:\u001b[0m\u001b[1;33m\u001b[0m\u001b[1;33m\u001b[0m\u001b[0m\n\u001b[0;32m    770\u001b[0m         \u001b[1;31m# Epochs only apply to `fit`.\u001b[0m\u001b[1;33m\u001b[0m\u001b[1;33m\u001b[0m\u001b[1;33m\u001b[0m\u001b[0m\n\u001b[1;32m--> 771\u001b[1;33m         \u001b[0mself\u001b[0m\u001b[1;33m.\u001b[0m\u001b[0mcallbacks\u001b[0m\u001b[1;33m.\u001b[0m\u001b[0mon_epoch_end\u001b[0m\u001b[1;33m(\u001b[0m\u001b[0mepoch\u001b[0m\u001b[1;33m,\u001b[0m \u001b[0mepoch_logs\u001b[0m\u001b[1;33m)\u001b[0m\u001b[1;33m\u001b[0m\u001b[1;33m\u001b[0m\u001b[0m\n\u001b[0m\u001b[0;32m    772\u001b[0m       \u001b[0mself\u001b[0m\u001b[1;33m.\u001b[0m\u001b[0mprogbar\u001b[0m\u001b[1;33m.\u001b[0m\u001b[0mon_epoch_end\u001b[0m\u001b[1;33m(\u001b[0m\u001b[0mepoch\u001b[0m\u001b[1;33m,\u001b[0m \u001b[0mepoch_logs\u001b[0m\u001b[1;33m)\u001b[0m\u001b[1;33m\u001b[0m\u001b[1;33m\u001b[0m\u001b[0m\n\u001b[0;32m    773\u001b[0m \u001b[1;33m\u001b[0m\u001b[0m\n",
      "\u001b[1;32m~\\Anaconda3\\envs\\safeclone\\lib\\site-packages\\tensorflow_core\\python\\keras\\callbacks.py\u001b[0m in \u001b[0;36mon_epoch_end\u001b[1;34m(self, epoch, logs)\u001b[0m\n\u001b[0;32m    300\u001b[0m     \u001b[0mlogs\u001b[0m \u001b[1;33m=\u001b[0m \u001b[0mlogs\u001b[0m \u001b[1;32mor\u001b[0m \u001b[1;33m{\u001b[0m\u001b[1;33m}\u001b[0m\u001b[1;33m\u001b[0m\u001b[1;33m\u001b[0m\u001b[0m\n\u001b[0;32m    301\u001b[0m     \u001b[1;32mfor\u001b[0m \u001b[0mcallback\u001b[0m \u001b[1;32min\u001b[0m \u001b[0mself\u001b[0m\u001b[1;33m.\u001b[0m\u001b[0mcallbacks\u001b[0m\u001b[1;33m:\u001b[0m\u001b[1;33m\u001b[0m\u001b[1;33m\u001b[0m\u001b[0m\n\u001b[1;32m--> 302\u001b[1;33m       \u001b[0mcallback\u001b[0m\u001b[1;33m.\u001b[0m\u001b[0mon_epoch_end\u001b[0m\u001b[1;33m(\u001b[0m\u001b[0mepoch\u001b[0m\u001b[1;33m,\u001b[0m \u001b[0mlogs\u001b[0m\u001b[1;33m)\u001b[0m\u001b[1;33m\u001b[0m\u001b[1;33m\u001b[0m\u001b[0m\n\u001b[0m\u001b[0;32m    303\u001b[0m \u001b[1;33m\u001b[0m\u001b[0m\n\u001b[0;32m    304\u001b[0m   \u001b[1;32mdef\u001b[0m \u001b[0mon_train_batch_begin\u001b[0m\u001b[1;33m(\u001b[0m\u001b[0mself\u001b[0m\u001b[1;33m,\u001b[0m \u001b[0mbatch\u001b[0m\u001b[1;33m,\u001b[0m \u001b[0mlogs\u001b[0m\u001b[1;33m=\u001b[0m\u001b[1;32mNone\u001b[0m\u001b[1;33m)\u001b[0m\u001b[1;33m:\u001b[0m\u001b[1;33m\u001b[0m\u001b[1;33m\u001b[0m\u001b[0m\n",
      "\u001b[1;32m~\\Anaconda3\\envs\\safeclone\\lib\\site-packages\\tensorflow_core\\python\\keras\\callbacks.py\u001b[0m in \u001b[0;36mon_epoch_end\u001b[1;34m(self, epoch, logs)\u001b[0m\n\u001b[0;32m   2044\u001b[0m \u001b[1;33m\u001b[0m\u001b[0m\n\u001b[0;32m   2045\u001b[0m     \u001b[0mrow_dict\u001b[0m \u001b[1;33m=\u001b[0m \u001b[0mcollections\u001b[0m\u001b[1;33m.\u001b[0m\u001b[0mOrderedDict\u001b[0m\u001b[1;33m(\u001b[0m\u001b[1;33m{\u001b[0m\u001b[1;34m'epoch'\u001b[0m\u001b[1;33m:\u001b[0m \u001b[0mepoch\u001b[0m\u001b[1;33m}\u001b[0m\u001b[1;33m)\u001b[0m\u001b[1;33m\u001b[0m\u001b[1;33m\u001b[0m\u001b[0m\n\u001b[1;32m-> 2046\u001b[1;33m     \u001b[0mrow_dict\u001b[0m\u001b[1;33m.\u001b[0m\u001b[0mupdate\u001b[0m\u001b[1;33m(\u001b[0m\u001b[1;33m(\u001b[0m\u001b[0mkey\u001b[0m\u001b[1;33m,\u001b[0m \u001b[0mhandle_value\u001b[0m\u001b[1;33m(\u001b[0m\u001b[0mlogs\u001b[0m\u001b[1;33m[\u001b[0m\u001b[0mkey\u001b[0m\u001b[1;33m]\u001b[0m\u001b[1;33m)\u001b[0m\u001b[1;33m)\u001b[0m \u001b[1;32mfor\u001b[0m \u001b[0mkey\u001b[0m \u001b[1;32min\u001b[0m \u001b[0mself\u001b[0m\u001b[1;33m.\u001b[0m\u001b[0mkeys\u001b[0m\u001b[1;33m)\u001b[0m\u001b[1;33m\u001b[0m\u001b[1;33m\u001b[0m\u001b[0m\n\u001b[0m\u001b[0;32m   2047\u001b[0m     \u001b[0mself\u001b[0m\u001b[1;33m.\u001b[0m\u001b[0mwriter\u001b[0m\u001b[1;33m.\u001b[0m\u001b[0mwriterow\u001b[0m\u001b[1;33m(\u001b[0m\u001b[0mrow_dict\u001b[0m\u001b[1;33m)\u001b[0m\u001b[1;33m\u001b[0m\u001b[1;33m\u001b[0m\u001b[0m\n\u001b[0;32m   2048\u001b[0m     \u001b[0mself\u001b[0m\u001b[1;33m.\u001b[0m\u001b[0mcsv_file\u001b[0m\u001b[1;33m.\u001b[0m\u001b[0mflush\u001b[0m\u001b[1;33m(\u001b[0m\u001b[1;33m)\u001b[0m\u001b[1;33m\u001b[0m\u001b[1;33m\u001b[0m\u001b[0m\n",
      "\u001b[1;32m~\\Anaconda3\\envs\\safeclone\\lib\\site-packages\\tensorflow_core\\python\\keras\\callbacks.py\u001b[0m in \u001b[0;36m<genexpr>\u001b[1;34m(.0)\u001b[0m\n\u001b[0;32m   2044\u001b[0m \u001b[1;33m\u001b[0m\u001b[0m\n\u001b[0;32m   2045\u001b[0m     \u001b[0mrow_dict\u001b[0m \u001b[1;33m=\u001b[0m \u001b[0mcollections\u001b[0m\u001b[1;33m.\u001b[0m\u001b[0mOrderedDict\u001b[0m\u001b[1;33m(\u001b[0m\u001b[1;33m{\u001b[0m\u001b[1;34m'epoch'\u001b[0m\u001b[1;33m:\u001b[0m \u001b[0mepoch\u001b[0m\u001b[1;33m}\u001b[0m\u001b[1;33m)\u001b[0m\u001b[1;33m\u001b[0m\u001b[1;33m\u001b[0m\u001b[0m\n\u001b[1;32m-> 2046\u001b[1;33m     \u001b[0mrow_dict\u001b[0m\u001b[1;33m.\u001b[0m\u001b[0mupdate\u001b[0m\u001b[1;33m(\u001b[0m\u001b[1;33m(\u001b[0m\u001b[0mkey\u001b[0m\u001b[1;33m,\u001b[0m \u001b[0mhandle_value\u001b[0m\u001b[1;33m(\u001b[0m\u001b[0mlogs\u001b[0m\u001b[1;33m[\u001b[0m\u001b[0mkey\u001b[0m\u001b[1;33m]\u001b[0m\u001b[1;33m)\u001b[0m\u001b[1;33m)\u001b[0m \u001b[1;32mfor\u001b[0m \u001b[0mkey\u001b[0m \u001b[1;32min\u001b[0m \u001b[0mself\u001b[0m\u001b[1;33m.\u001b[0m\u001b[0mkeys\u001b[0m\u001b[1;33m)\u001b[0m\u001b[1;33m\u001b[0m\u001b[1;33m\u001b[0m\u001b[0m\n\u001b[0m\u001b[0;32m   2047\u001b[0m     \u001b[0mself\u001b[0m\u001b[1;33m.\u001b[0m\u001b[0mwriter\u001b[0m\u001b[1;33m.\u001b[0m\u001b[0mwriterow\u001b[0m\u001b[1;33m(\u001b[0m\u001b[0mrow_dict\u001b[0m\u001b[1;33m)\u001b[0m\u001b[1;33m\u001b[0m\u001b[1;33m\u001b[0m\u001b[0m\n\u001b[0;32m   2048\u001b[0m     \u001b[0mself\u001b[0m\u001b[1;33m.\u001b[0m\u001b[0mcsv_file\u001b[0m\u001b[1;33m.\u001b[0m\u001b[0mflush\u001b[0m\u001b[1;33m(\u001b[0m\u001b[1;33m)\u001b[0m\u001b[1;33m\u001b[0m\u001b[1;33m\u001b[0m\u001b[0m\n",
      "\u001b[1;31mKeyError\u001b[0m: 'val_accuracy'"
     ]
    }
   ],
   "source": [
    "# HERE IT IS! WE RUN THE NETWORK!\n",
    "# 1. save network weights\n",
    "# 2. save HP setup in universal log file\n",
    "# 3. start first epoch, not hyperparamets to set here\n",
    "x = train_test_split(input_ready_floats, input_ready_onehot, input_ready_icds, output_ready_icds,\n",
    "                     test_size=testing_units, random_state = random_state, shuffle=True)\n",
    "[i_floats_train, i_floats_test, i_onehot_train, i_onehot_test, i_icds_train, i_icds_test, o_icds_train, o_icds_test] = x\n",
    "model.save_weights(logname + ' - ' + data_aggr  + ' weights ' +str(random_state)+ '.h5')\n",
    "with open('universal training log.csv', 'a') as f:\n",
    "    p=''\n",
    "    if(padding_after == 1): p ='after'\n",
    "    else: p='before'\n",
    "    f.write('\\n' +logname+': data aggregation = ' + data_aggr + ', padding = '+ p + ', 1st layer neurons = '+ str(first_layer_neurons) + ', 2nd layer neurons = ' + str(second_layer_neurons) + ', epochs = ' + str(epochs) + ', batch size = ' + str(batch_size) + ', testing units = ' + str(testing_units) + ', instances read = ' + str(data_max_read) + '(data sample size = ' + str(data_sample_size) + ')' + ', optimizer = ' + str(model.optimizer.get_config()) + ', random state: ' +str(random_state))\n",
    "    f.close()\n",
    "history = tf.keras.callbacks.History()\n",
    "history = model.fit(\n",
    "    initial_epoch = 0,\n",
    "    x = [i_floats_train,i_onehot_train,i_icds_train],\n",
    "    y = o_icds_train,\n",
    "    batch_size=batch_size,\n",
    "    epochs=epochs,\n",
    "    validation_data = ([i_floats_test,i_onehot_test,i_icds_test], o_icds_test),\n",
    "    shuffle=True,\n",
    "    verbose=1,\n",
    "    callbacks=[flexible_lr,\n",
    "               csv_logger,\n",
    "               UniversalLog(),\n",
    "               #LossAndErrorPrintingCallback(),\n",
    "               DifferencePrint(),\n",
    "               #EarlyStoppingAtMinLoss2(),\n",
    "               #tensorboard_callback,\n",
    "               #EMAweightswap(),\n",
    "               model_checkpoint_callback\n",
    "              ],\n",
    ")"
   ]
  },
  {
   "cell_type": "code",
   "execution_count": null,
   "metadata": {},
   "outputs": [],
   "source": [
    "# once done, save history var to pd.DataFrame\n",
    "hist_df = pd.DataFrame(history.history)\n",
    "# or save to csv: \n",
    "hist_csv_file = 'history' + logname + ' - ' + data_aggr + '.csv'\n",
    "with open(hist_csv_file, mode='w') as f:\n",
    "    hist_df.to_csv(f)"
   ]
  },
  {
   "cell_type": "code",
   "execution_count": null,
   "metadata": {},
   "outputs": [],
   "source": []
  },
  {
   "cell_type": "markdown",
   "metadata": {},
   "source": [
    "END OF PROGRAM"
   ]
  },
  {
   "cell_type": "code",
   "execution_count": null,
   "metadata": {},
   "outputs": [],
   "source": []
  },
  {
   "cell_type": "code",
   "execution_count": null,
   "metadata": {},
   "outputs": [],
   "source": []
  },
  {
   "cell_type": "code",
   "execution_count": null,
   "metadata": {},
   "outputs": [],
   "source": []
  },
  {
   "cell_type": "code",
   "execution_count": null,
   "metadata": {},
   "outputs": [],
   "source": []
  },
  {
   "cell_type": "code",
   "execution_count": null,
   "metadata": {},
   "outputs": [],
   "source": []
  },
  {
   "cell_type": "code",
   "execution_count": null,
   "metadata": {},
   "outputs": [],
   "source": []
  },
  {
   "cell_type": "code",
   "execution_count": null,
   "metadata": {},
   "outputs": [],
   "source": []
  },
  {
   "cell_type": "code",
   "execution_count": null,
   "metadata": {},
   "outputs": [],
   "source": []
  },
  {
   "cell_type": "code",
   "execution_count": null,
   "metadata": {},
   "outputs": [],
   "source": []
  },
  {
   "cell_type": "code",
   "execution_count": null,
   "metadata": {},
   "outputs": [],
   "source": []
  },
  {
   "cell_type": "code",
   "execution_count": null,
   "metadata": {},
   "outputs": [],
   "source": []
  },
  {
   "cell_type": "code",
   "execution_count": null,
   "metadata": {},
   "outputs": [],
   "source": []
  },
  {
   "cell_type": "code",
   "execution_count": null,
   "metadata": {},
   "outputs": [],
   "source": []
  }
 ],
 "metadata": {
  "kernelspec": {
   "display_name": "Python 3",
   "language": "python",
   "name": "python3"
  },
  "language_info": {
   "codemirror_mode": {
    "name": "ipython",
    "version": 3
   },
   "file_extension": ".py",
   "mimetype": "text/x-python",
   "name": "python",
   "nbconvert_exporter": "python",
   "pygments_lexer": "ipython3",
   "version": "3.7.4"
  }
 },
 "nbformat": 4,
 "nbformat_minor": 4
}
